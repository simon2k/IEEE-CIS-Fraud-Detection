{
 "cells": [
  {
   "cell_type": "markdown",
   "metadata": {},
   "source": [
    "# IEEE-CIS Fraud Detection"
   ]
  },
  {
   "cell_type": "markdown",
   "metadata": {},
   "source": [
    "Can you detect fraud from customer transactions?\n",
    "\n",
    "Competition: https://www.kaggle.com/c/ieee-fraud-detection"
   ]
  },
  {
   "cell_type": "code",
   "execution_count": 2,
   "metadata": {
    "pycharm": {
     "is_executing": true
    }
   },
   "outputs": [],
   "source": [
    "import numpy as np\n",
    "import pandas as pd\n",
    "import seaborn as sns\n",
    "import matplotlib.pyplot as plt\n",
    "from sklearn.model_selection import train_test_split\n",
    "from sklearn.metrics import roc_auc_score, mean_squared_error\n",
    "from sklearn.linear_model import LogisticRegression, LogisticRegressionCV\n",
    "import math"
   ]
  },
  {
   "cell_type": "markdown",
   "metadata": {},
   "source": [
    "## Load data\n",
    "\n",
    "Firstly, create function to optimize memory for loading the data"
   ]
  },
  {
   "cell_type": "code",
   "execution_count": 6,
   "metadata": {},
   "outputs": [],
   "source": [
    "# From: https://www.kaggle.com/arjanso/reducing-dataframe-memory-size-by-65\n",
    "def reduce_mem_usage(props):\n",
    "    start_mem_usg = props.memory_usage().sum() / 1024 ** 2\n",
    "    print(\"Memory usage of properties dataframe is :\", start_mem_usg, \" MB\")\n",
    "    for col in props.columns:\n",
    "        if props[col].dtype != object:  # Exclude strings\n",
    "            IsInt = False\n",
    "\n",
    "            mx = props[col].max()\n",
    "            mn = props[col].min()\n",
    "\n",
    "            if not np.isfinite(props[col]).all():\n",
    "                props[col].fillna(-999, inplace=True)\n",
    "\n",
    "            asint = props[col].fillna(0).astype(np.int64)\n",
    "            result = (props[col] - asint)\n",
    "            result = result.sum()\n",
    "\n",
    "            if -0.01 < result < 0.01:\n",
    "                IsInt = True\n",
    "\n",
    "            if IsInt:\n",
    "                if mn >= 0:\n",
    "                    if mx < 255:\n",
    "                        props[col] = props[col].astype(np.uint8)\n",
    "                    elif mx < 65535:\n",
    "                        props[col] = props[col].astype(np.uint16)\n",
    "                    elif mx < 4294967295:\n",
    "                        props[col] = props[col].astype(np.uint32)\n",
    "                    else:\n",
    "                        props[col] = props[col].astype(np.uint64)\n",
    "                else:\n",
    "                    if mn > np.iinfo(np.int8).min and mx < np.iinfo(np.int8).max:\n",
    "                        props[col] = props[col].astype(np.int8)\n",
    "                    elif mn > np.iinfo(np.int16).min and mx < np.iinfo(np.int16).max:\n",
    "                        props[col] = props[col].astype(np.int16)\n",
    "                    elif mn > np.iinfo(np.int32).min and mx < np.iinfo(np.int32).max:\n",
    "                        props[col] = props[col].astype(np.int32)\n",
    "                    elif mn > np.iinfo(np.int64).min and mx < np.iinfo(np.int64).max:\n",
    "                        props[col] = props[col].astype(np.int64)\n",
    "            else:\n",
    "                props[col] = props[col].astype(np.float32)\n",
    "\n",
    "    print(\"___MEMORY USAGE AFTER COMPLETION:___\")\n",
    "    mem_usg = props.memory_usage().sum() / 1024 ** 2\n",
    "    print(\"Memory usage is: \", mem_usg, \" MB\")\n",
    "    print(\"This is \", 100 * mem_usg / start_mem_usg, \"% of the initial size\")\n",
    "    return props\n",
    "\n",
    "def load_csv(path):\n",
    "    return reduce_mem_usage(pd.read_csv(path))"
   ]
  },
  {
   "cell_type": "markdown",
   "metadata": {},
   "source": [
    "### Load the test & train data"
   ]
  },
  {
   "cell_type": "code",
   "execution_count": 7,
   "metadata": {
    "pycharm": {
     "is_executing": true
    },
    "scrolled": true
   },
   "outputs": [
    {
     "name": "stdout",
     "output_type": "stream",
     "text": [
      "Memory usage of properties dataframe is : 45.116905212402344  MB\n",
      "___MEMORY USAGE AFTER COMPLETION:___\n",
      "Memory usage is:  23.934003829956055  MB\n",
      "This is  53.04885988362684 % of the initial size\n",
      "Memory usage of properties dataframe is : 1775.152359008789  MB\n",
      "___MEMORY USAGE AFTER COMPLETION:___\n",
      "Memory usage is:  450.5463409423828  MB\n",
      "This is  25.38071386694713 % of the initial size\n",
      "Memory usage of properties dataframe is : 44.389320373535156  MB\n",
      "___MEMORY USAGE AFTER COMPLETION:___\n",
      "Memory usage is:  23.54802894592285  MB\n",
      "This is  53.04886118500284 % of the initial size\n",
      "Memory usage of properties dataframe is : 1519.2380752563477  MB\n",
      "___MEMORY USAGE AFTER COMPLETION:___\n",
      "Memory usage is:  376.9102668762207  MB\n",
      "This is  24.80916408131905 % of the initial size\n"
     ]
    }
   ],
   "source": [
    "ASSETS_PATH = './assets/'\n",
    "train_identity = load_csv(f'{ASSETS_PATH}/train_identity.csv')\n",
    "train_transaction = load_csv(f'{ASSETS_PATH}/train_transaction.csv')\n",
    "test_identity = load_csv(f'{ASSETS_PATH}/test_identity.csv')\n",
    "test_transaction = load_csv(f'{ASSETS_PATH}/test_transaction.csv')"
   ]
  },
  {
   "cell_type": "markdown",
   "metadata": {},
   "source": [
    "## Visualizations"
   ]
  },
  {
   "cell_type": "code",
   "execution_count": 8,
   "metadata": {
    "scrolled": false
   },
   "outputs": [
    {
     "data": {
      "image/png": "[encoded data removed]",
      "text/plain": [
       "<Figure size 432x288 with 1 Axes>"
      ]
     },
     "metadata": {
      "needs_background": "light"
     },
     "output_type": "display_data"
    }
   ],
   "source": [
    "plt.title('Amount to fraud relation')\n",
    "sns.scatterplot(x='isFraud', y='TransactionAmt', data=train_transaction)\n",
    "plt.show()"
   ]
  },
  {
   "cell_type": "code",
   "execution_count": 10,
   "metadata": {},
   "outputs": [
    {
     "data": {
      "image/png": "[encoded data removed]",
      "text/plain": [
       "<Figure size 432x288 with 1 Axes>"
      ]
     },
     "metadata": {
      "needs_background": "light"
     },
     "output_type": "display_data"
    }
   ],
   "source": [
    "plt.figure()\n",
    "plt.title('ProductCD to fraud relation')\n",
    "sns.scatterplot(x='ProductCD', y='isFraud', data=train_transaction)\n",
    "plt.show()"
   ]
  },
  {
   "cell_type": "markdown",
   "metadata": {},
   "source": [
    "## Join transactions with identities"
   ]
  },
  {
   "cell_type": "code",
   "execution_count": 11,
   "metadata": {},
   "outputs": [
    {
     "name": "stdout",
     "output_type": "stream",
     "text": [
      "Memory usage of properties dataframe is : 633.0175018310547  MB\n",
      "___MEMORY USAGE AFTER COMPLETION:___\n",
      "Memory usage is:  550.7928085327148  MB\n",
      "This is  87.01067615658363 % of the initial size\n",
      "Memory usage of properties dataframe is : 533.4728851318359  MB\n",
      "___MEMORY USAGE AFTER COMPLETION:___\n",
      "Memory usage is:  462.92302894592285  MB\n",
      "This is  86.77536231884058 % of the initial size\n"
     ]
    }
   ],
   "source": [
    "train_df = reduce_mem_usage(pd.merge(train_transaction, train_identity, on='TransactionID', how='left'))\n",
    "test_df = reduce_mem_usage(pd.merge(test_transaction, test_identity, on='TransactionID', how='left'))"
   ]
  },
  {
   "cell_type": "markdown",
   "metadata": {},
   "source": [
    "### Prepare categorical & numerical columns\n",
    "\n",
    "**Categorical Features in Transaction**\n",
    "- ProductCD\n",
    "- card1 - card6\n",
    "- addr1, addr2\n",
    "- P_emaildomain\n",
    "- R_emaildomain\n",
    "- M1 - M9\n",
    "\n",
    "**Categorical Features in Identity**\n",
    "- DeviceType\n",
    "- DeviceInfo\n",
    "- id_12 - id_38"
   ]
  },
  {
   "cell_type": "code",
   "execution_count": 12,
   "metadata": {},
   "outputs": [],
   "source": [
    "CATEGORICAL_COLS = 'id_1\\d|id_2\\d|id_3\\d|card|ProductCD|add|email|M|DeviceType|DeviceInfo'\n",
    "categorical_columns = train_df.filter(regex=CATEGORICAL_COLS).drop(columns=['id_10', 'id_11']).columns\n",
    "numerical_columns = train_df.drop(columns=[*categorical_columns, 'TransactionID', 'isFraud']).columns"
   ]
  },
  {
   "cell_type": "markdown",
   "metadata": {},
   "source": [
    "### Normalize numerical columns"
   ]
  },
  {
   "cell_type": "code",
   "execution_count": 13,
   "metadata": {},
   "outputs": [],
   "source": [
    "train_df[numerical_columns] = train_df[numerical_columns].apply(lambda df: (df - df.min()) / (df.max() - df.min()))"
   ]
  },
  {
   "cell_type": "markdown",
   "metadata": {},
   "source": [
    "### Encode categorical data\n",
    "\n",
    "Based on idea from: https://www.kaggle.com/c/ieee-fraud-detection/discussion/108575#latest-627291"
   ]
  },
  {
   "cell_type": "code",
   "execution_count": 14,
   "metadata": {},
   "outputs": [],
   "source": [
    "for column in categorical_columns:\n",
    "    column_df = pd.concat([train_df[column], test_df[column]])\n",
    "    column_df, _ = column_df.factorize()\n",
    "\n",
    "    if column_df.max() < 128:\n",
    "        column_df = column_df.astype('int8')\n",
    "    elif column_df.max() < 32768:\n",
    "        column_df = column_df.astype('int16')\n",
    "    else:\n",
    "        column_df.astype('int32')\n",
    "\n",
    "    train_df[column] = column_df[:len(train_df)]\n",
    "    test_df[column] = column_df[len(train_df):]"
   ]
  },
  {
   "cell_type": "markdown",
   "metadata": {},
   "source": [
    "### Split train df to X and y"
   ]
  },
  {
   "cell_type": "code",
   "execution_count": 15,
   "metadata": {},
   "outputs": [],
   "source": [
    "train_df_X = train_df.drop(columns=['isFraud'])\n",
    "train_df_y = train_df['isFraud']\n",
    "train_X, test_X, train_y, test_y = train_test_split(train_df_X, train_df_y, test_size=.2)"
   ]
  },
  {
   "cell_type": "markdown",
   "metadata": {},
   "source": [
    "### Logistic regression model\n",
    "\n",
    "Definition & training"
   ]
  },
  {
   "cell_type": "code",
   "execution_count": 16,
   "metadata": {},
   "outputs": [
    {
     "name": "stderr",
     "output_type": "stream",
     "text": [
      "[Parallel(n_jobs=8)]: Using backend ThreadingBackend with 8 concurrent workers.\n"
     ]
    },
    {
     "name": "stdout",
     "output_type": "stream",
     "text": [
      "max_iter reached after 353 seconds\n"
     ]
    },
    {
     "name": "stderr",
     "output_type": "stream",
     "text": [
      "/home/simon/anaconda3/lib/python3.7/site-packages/sklearn/linear_model/sag.py:334: ConvergenceWarning: The max_iter was reached which means the coef_ did not converge\n",
      "  \"the coef_ did not converge\", ConvergenceWarning)\n",
      "[Parallel(n_jobs=8)]: Done   1 out of   1 | elapsed:  5.9min finished\n"
     ]
    },
    {
     "data": {
      "text/plain": [
       "LogisticRegression(C=1.0, class_weight=None, dual=False, fit_intercept=True,\n",
       "          intercept_scaling=1, max_iter=150, multi_class='warn', n_jobs=8,\n",
       "          penalty='l2', random_state=None, solver='saga', tol=0.0001,\n",
       "          verbose=1, warm_start=False)"
      ]
     },
     "execution_count": 16,
     "metadata": {},
     "output_type": "execute_result"
    }
   ],
   "source": [
    "lr_model = LogisticRegression(solver='saga', max_iter=150, n_jobs=8, verbose=1)\n",
    "lr_model.fit(train_X, train_y)"
   ]
  },
  {
   "cell_type": "markdown",
   "metadata": {},
   "source": [
    "### Predict frauds"
   ]
  },
  {
   "cell_type": "code",
   "execution_count": 17,
   "metadata": {},
   "outputs": [],
   "source": [
    "test_predictions = lr_model.predict(test_X)\n",
    "predictions = lr_model.predict_proba(test_df)"
   ]
  },
  {
   "cell_type": "markdown",
   "metadata": {},
   "source": [
    "### Display statistics"
   ]
  },
  {
   "cell_type": "code",
   "execution_count": 19,
   "metadata": {},
   "outputs": [
    {
     "name": "stdout",
     "output_type": "stream",
     "text": [
      "Test ROC AUC:  0.5\n",
      "Test RMSE:  0.1865666789155544\n",
      "Score (Mean Accuracy):  0.9651928743184204\n"
     ]
    }
   ],
   "source": [
    "print('Test ROC AUC: ', roc_auc_score(test_y, test_predictions))\n",
    "print('Test RMSE: ', math.sqrt(mean_squared_error(test_y, test_predictions)))\n",
    "print('Score (Mean Accuracy): ', lr_model.score(test_X, test_y))"
   ]
  }
 ],
 "metadata": {
  "kernelspec": {
   "display_name": "Python 3",
   "language": "python",
   "name": "python3"
  },
  "language_info": {
   "codemirror_mode": {
    "name": "ipython",
    "version": 3
   },
   "file_extension": ".py",
   "mimetype": "text/x-python",
   "name": "python",
   "nbconvert_exporter": "python",
   "pygments_lexer": "ipython3",
   "version": "3.7.1"
  },
  "pycharm": {
   "stem_cell": {
    "cell_type": "raw",
    "metadata": {
     "collapsed": false
    },
    "source": []
   }
  }
 },
 "nbformat": 4,
 "nbformat_minor": 2
}
